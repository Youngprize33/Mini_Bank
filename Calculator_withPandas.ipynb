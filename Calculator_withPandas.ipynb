{
 "cells": [
  {
   "cell_type": "markdown",
   "metadata": {},
   "source": [
    "# Pandas 패키지 소개 및 대출금계산기 만들기"
   ]
  },
  {
   "cell_type": "markdown",
   "metadata": {},
   "source": [
    "## Pandas 패키지 소개"
   ]
  },
  {
   "cell_type": "markdown",
   "metadata": {},
   "source": [
    "### Pandas 데이터프레임"
   ]
  },
  {
   "cell_type": "markdown",
   "metadata": {},
   "source": [
    "#### Pandas 패키지를 사용하기 위해 import"
   ]
  },
  {
   "cell_type": "code",
   "execution_count": 1,
   "metadata": {},
   "outputs": [],
   "source": [
    "import pandas as pd"
   ]
  },
  {
   "cell_type": "markdown",
   "metadata": {},
   "source": [
    "#### 비어있는 리스트 변수 생성"
   ]
  },
  {
   "cell_type": "code",
   "execution_count": 2,
   "metadata": {},
   "outputs": [],
   "source": [
    "리스트 = []"
   ]
  },
  {
   "cell_type": "markdown",
   "metadata": {},
   "source": [
    "#### 리스트 변수에 데이터 추가"
   ]
  },
  {
   "cell_type": "code",
   "execution_count": 4,
   "metadata": {},
   "outputs": [
    {
     "data": {
      "text/plain": [
       "[['1', '제우스'], ['1', '제우스'], ['2', '헤라'], ['3', '포세이돈']]"
      ]
     },
     "execution_count": 4,
     "metadata": {},
     "output_type": "execute_result"
    }
   ],
   "source": [
    "리스트.append(['1', '제우스'])\n",
    "리스트.append(['2', '헤라'])\n",
    "리스트.append(['3', '포세이돈'])\n",
    "리스트"
   ]
  },
  {
   "cell_type": "markdown",
   "metadata": {},
   "source": [
    "#### pandas 패키지를 이용해 데이터프레임 생성"
   ]
  },
  {
   "cell_type": "code",
   "execution_count": 5,
   "metadata": {},
   "outputs": [],
   "source": [
    "데이터프레임 = pd.DataFrame(리스트)"
   ]
  },
  {
   "cell_type": "markdown",
   "metadata": {},
   "source": [
    "#### 데이터프레임 출력"
   ]
  },
  {
   "cell_type": "code",
   "execution_count": 6,
   "metadata": {},
   "outputs": [
    {
     "data": {
      "text/html": [
       "<div>\n",
       "<style scoped>\n",
       "    .dataframe tbody tr th:only-of-type {\n",
       "        vertical-align: middle;\n",
       "    }\n",
       "\n",
       "    .dataframe tbody tr th {\n",
       "        vertical-align: top;\n",
       "    }\n",
       "\n",
       "    .dataframe thead th {\n",
       "        text-align: right;\n",
       "    }\n",
       "</style>\n",
       "<table border=\"1\" class=\"dataframe\">\n",
       "  <thead>\n",
       "    <tr style=\"text-align: right;\">\n",
       "      <th></th>\n",
       "      <th>0</th>\n",
       "      <th>1</th>\n",
       "    </tr>\n",
       "  </thead>\n",
       "  <tbody>\n",
       "    <tr>\n",
       "      <th>0</th>\n",
       "      <td>1</td>\n",
       "      <td>제우스</td>\n",
       "    </tr>\n",
       "    <tr>\n",
       "      <th>1</th>\n",
       "      <td>1</td>\n",
       "      <td>제우스</td>\n",
       "    </tr>\n",
       "    <tr>\n",
       "      <th>2</th>\n",
       "      <td>2</td>\n",
       "      <td>헤라</td>\n",
       "    </tr>\n",
       "    <tr>\n",
       "      <th>3</th>\n",
       "      <td>3</td>\n",
       "      <td>포세이돈</td>\n",
       "    </tr>\n",
       "  </tbody>\n",
       "</table>\n",
       "</div>"
      ],
      "text/plain": [
       "   0     1\n",
       "0  1   제우스\n",
       "1  1   제우스\n",
       "2  2    헤라\n",
       "3  3  포세이돈"
      ]
     },
     "execution_count": 6,
     "metadata": {},
     "output_type": "execute_result"
    }
   ],
   "source": [
    "데이터프레임"
   ]
  },
  {
   "cell_type": "code",
   "execution_count": 7,
   "metadata": {},
   "outputs": [
    {
     "data": {
      "text/html": [
       "<div>\n",
       "<style scoped>\n",
       "    .dataframe tbody tr th:only-of-type {\n",
       "        vertical-align: middle;\n",
       "    }\n",
       "\n",
       "    .dataframe tbody tr th {\n",
       "        vertical-align: top;\n",
       "    }\n",
       "\n",
       "    .dataframe thead th {\n",
       "        text-align: right;\n",
       "    }\n",
       "</style>\n",
       "<table border=\"1\" class=\"dataframe\">\n",
       "  <thead>\n",
       "    <tr style=\"text-align: right;\">\n",
       "      <th></th>\n",
       "      <th>번호</th>\n",
       "      <th>이름</th>\n",
       "    </tr>\n",
       "  </thead>\n",
       "  <tbody>\n",
       "    <tr>\n",
       "      <th>0</th>\n",
       "      <td>1</td>\n",
       "      <td>제우스</td>\n",
       "    </tr>\n",
       "    <tr>\n",
       "      <th>1</th>\n",
       "      <td>1</td>\n",
       "      <td>제우스</td>\n",
       "    </tr>\n",
       "    <tr>\n",
       "      <th>2</th>\n",
       "      <td>2</td>\n",
       "      <td>헤라</td>\n",
       "    </tr>\n",
       "    <tr>\n",
       "      <th>3</th>\n",
       "      <td>3</td>\n",
       "      <td>포세이돈</td>\n",
       "    </tr>\n",
       "  </tbody>\n",
       "</table>\n",
       "</div>"
      ],
      "text/plain": [
       "  번호    이름\n",
       "0  1   제우스\n",
       "1  1   제우스\n",
       "2  2    헤라\n",
       "3  3  포세이돈"
      ]
     },
     "execution_count": 7,
     "metadata": {},
     "output_type": "execute_result"
    }
   ],
   "source": [
    "데이터프레임.columns = ['번호', '이름']\n",
    "데이터프레임"
   ]
  },
  {
   "cell_type": "markdown",
   "metadata": {},
   "source": [
    "## 원리금균등분할 상환 대출금계산기"
   ]
  },
  {
   "cell_type": "markdown",
   "metadata": {},
   "source": [
    "### 데이터프레임을 엑셀파일로 저장"
   ]
  },
  {
   "cell_type": "code",
   "execution_count": 8,
   "metadata": {},
   "outputs": [
    {
     "data": {
      "text/html": [
       "<div>\n",
       "<style scoped>\n",
       "    .dataframe tbody tr th:only-of-type {\n",
       "        vertical-align: middle;\n",
       "    }\n",
       "\n",
       "    .dataframe tbody tr th {\n",
       "        vertical-align: top;\n",
       "    }\n",
       "\n",
       "    .dataframe thead th {\n",
       "        text-align: right;\n",
       "    }\n",
       "</style>\n",
       "<table border=\"1\" class=\"dataframe\">\n",
       "  <thead>\n",
       "    <tr style=\"text-align: right;\">\n",
       "      <th></th>\n",
       "      <th>번호</th>\n",
       "      <th>이름</th>\n",
       "    </tr>\n",
       "  </thead>\n",
       "  <tbody>\n",
       "    <tr>\n",
       "      <th>0</th>\n",
       "      <td>1</td>\n",
       "      <td>제우스</td>\n",
       "    </tr>\n",
       "    <tr>\n",
       "      <th>1</th>\n",
       "      <td>1</td>\n",
       "      <td>제우스</td>\n",
       "    </tr>\n",
       "    <tr>\n",
       "      <th>2</th>\n",
       "      <td>2</td>\n",
       "      <td>헤라</td>\n",
       "    </tr>\n",
       "    <tr>\n",
       "      <th>3</th>\n",
       "      <td>3</td>\n",
       "      <td>포세이돈</td>\n",
       "    </tr>\n",
       "  </tbody>\n",
       "</table>\n",
       "</div>"
      ],
      "text/plain": [
       "  번호    이름\n",
       "0  1   제우스\n",
       "1  1   제우스\n",
       "2  2    헤라\n",
       "3  3  포세이돈"
      ]
     },
     "execution_count": 8,
     "metadata": {},
     "output_type": "execute_result"
    }
   ],
   "source": [
    "데이터프레임"
   ]
  },
  {
   "cell_type": "markdown",
   "metadata": {},
   "source": [
    "* Ch1 : 메모리에 엑셀객체 생성"
   ]
  },
  {
   "cell_type": "code",
   "execution_count": 9,
   "metadata": {},
   "outputs": [],
   "source": [
    "엑셀 = pd.ExcelWriter('data/이름.xlsx')"
   ]
  },
  {
   "cell_type": "markdown",
   "metadata": {},
   "source": [
    "* Ch2 : 메모리 상에서 데이터프레임을 엑셀에 저장"
   ]
  },
  {
   "cell_type": "code",
   "execution_count": 10,
   "metadata": {},
   "outputs": [],
   "source": [
    "데이터프레임.to_excel(엑셀, '이름', index = False)"
   ]
  },
  {
   "cell_type": "markdown",
   "metadata": {},
   "source": [
    "* Ch3 : 실제 파일로 저장"
   ]
  },
  {
   "cell_type": "code",
   "execution_count": 11,
   "metadata": {},
   "outputs": [],
   "source": [
    "엑셀.save()"
   ]
  },
  {
   "cell_type": "markdown",
   "metadata": {},
   "source": [
    "### 엑셀파일 읽기"
   ]
  },
  {
   "cell_type": "markdown",
   "metadata": {},
   "source": [
    "#### 엑셀파일 읽고 변수에 저장"
   ]
  },
  {
   "cell_type": "code",
   "execution_count": 13,
   "metadata": {
    "scrolled": true
   },
   "outputs": [
    {
     "data": {
      "text/html": [
       "<div>\n",
       "<style scoped>\n",
       "    .dataframe tbody tr th:only-of-type {\n",
       "        vertical-align: middle;\n",
       "    }\n",
       "\n",
       "    .dataframe tbody tr th {\n",
       "        vertical-align: top;\n",
       "    }\n",
       "\n",
       "    .dataframe thead th {\n",
       "        text-align: right;\n",
       "    }\n",
       "</style>\n",
       "<table border=\"1\" class=\"dataframe\">\n",
       "  <thead>\n",
       "    <tr style=\"text-align: right;\">\n",
       "      <th></th>\n",
       "      <th>번호</th>\n",
       "      <th>이름</th>\n",
       "    </tr>\n",
       "  </thead>\n",
       "  <tbody>\n",
       "    <tr>\n",
       "      <th>0</th>\n",
       "      <td>1</td>\n",
       "      <td>제우스</td>\n",
       "    </tr>\n",
       "    <tr>\n",
       "      <th>1</th>\n",
       "      <td>1</td>\n",
       "      <td>제우스</td>\n",
       "    </tr>\n",
       "    <tr>\n",
       "      <th>2</th>\n",
       "      <td>2</td>\n",
       "      <td>헤라</td>\n",
       "    </tr>\n",
       "    <tr>\n",
       "      <th>3</th>\n",
       "      <td>3</td>\n",
       "      <td>포세이돈</td>\n",
       "    </tr>\n",
       "  </tbody>\n",
       "</table>\n",
       "</div>"
      ],
      "text/plain": [
       "   번호    이름\n",
       "0   1   제우스\n",
       "1   1   제우스\n",
       "2   2    헤라\n",
       "3   3  포세이돈"
      ]
     },
     "execution_count": 13,
     "metadata": {},
     "output_type": "execute_result"
    }
   ],
   "source": [
    "데이터프레임_엑셀 = pd.read_excel('data/이름.xlsx')\n",
    "데이터프레임_엑셀"
   ]
  },
  {
   "cell_type": "markdown",
   "metadata": {},
   "source": [
    "### 원리금 균등 분할상환 공식"
   ]
  },
  {
   "cell_type": "markdown",
   "metadata": {},
   "source": [
    "#### 입력 : 대출원금, 이자율, 납입개월"
   ]
  },
  {
   "cell_type": "code",
   "execution_count": 14,
   "metadata": {},
   "outputs": [],
   "source": [
    "대출원금 = 10000000\n",
    "연이자율 = 5\n",
    "대출기간 = 24"
   ]
  },
  {
   "cell_type": "code",
   "execution_count": 15,
   "metadata": {},
   "outputs": [
    {
     "data": {
      "text/plain": [
       "5"
      ]
     },
     "execution_count": 15,
     "metadata": {},
     "output_type": "execute_result"
    }
   ],
   "source": [
    "연이자율"
   ]
  },
  {
   "cell_type": "code",
   "execution_count": 16,
   "metadata": {},
   "outputs": [],
   "source": [
    "연이자율 = 연이자율 / 100"
   ]
  },
  {
   "cell_type": "code",
   "execution_count": 18,
   "metadata": {},
   "outputs": [
    {
     "data": {
      "text/plain": [
       "0.004166666666666667"
      ]
     },
     "execution_count": 18,
     "metadata": {},
     "output_type": "execute_result"
    }
   ],
   "source": [
    "이자율 = 연이자율 / 12\n",
    "이자율"
   ]
  },
  {
   "cell_type": "code",
   "execution_count": 19,
   "metadata": {},
   "outputs": [
    {
     "data": {
      "image/jpeg": "[encoded data removed]",
      "text/plain": [
       "<IPython.core.display.Image object>"
      ]
     },
     "execution_count": 19,
     "metadata": {},
     "output_type": "execute_result"
    }
   ],
   "source": [
    "from IPython.display import Image\n",
    "Image('data/원리금균등분할상환공식.JPG')"
   ]
  },
  {
   "cell_type": "markdown",
   "metadata": {},
   "source": [
    "#### 공식계산"
   ]
  },
  {
   "cell_type": "code",
   "execution_count": 21,
   "metadata": {},
   "outputs": [
    {
     "data": {
      "text/plain": [
       "438713.89734068594"
      ]
     },
     "execution_count": 21,
     "metadata": {},
     "output_type": "execute_result"
    }
   ],
   "source": [
    "월납입액 = (대출원금 * 이자율 * (1 + 이자율) ** 대출기간) / ((1 + 이자율) ** 대출기간 - 1)\n",
    "월납입액"
   ]
  },
  {
   "cell_type": "code",
   "execution_count": 22,
   "metadata": {},
   "outputs": [
    {
     "data": {
      "text/plain": [
       "438714"
      ]
     },
     "execution_count": 22,
     "metadata": {},
     "output_type": "execute_result"
    }
   ],
   "source": [
    "월납입액 = round(월납입액)\n",
    "월납입액"
   ]
  },
  {
   "cell_type": "code",
   "execution_count": 23,
   "metadata": {},
   "outputs": [],
   "source": [
    "대출잔액 = 대출원금"
   ]
  },
  {
   "cell_type": "code",
   "execution_count": 24,
   "metadata": {},
   "outputs": [
    {
     "data": {
      "text/plain": [
       "[397047.3333333333, 41666.666666666664, 438714, 9602952.666666666]"
      ]
     },
     "execution_count": 24,
     "metadata": {},
     "output_type": "execute_result"
    }
   ],
   "source": [
    "대출이자 = 대출잔액 * 이자율\n",
    "납입원금 = 월납입액 - 대출이자\n",
    "대출잔액 = 대출잔액 - 납입원금\n",
    "\n",
    "[ 납입원금, 대출이자, 월납입액, 대출잔액 ]"
   ]
  },
  {
   "cell_type": "code",
   "execution_count": 25,
   "metadata": {},
   "outputs": [
    {
     "name": "stdout",
     "output_type": "stream",
     "text": [
      "[1, 397047, 41667, 438714, 9602953]\n",
      "[2, 398702, 40012, 438714, 9204251]\n",
      "[3, 400363, 38351, 438714, 8803888]\n",
      "[4, 402031, 36683, 438714, 8401857]\n",
      "[5, 403706, 35008, 438714, 7998151]\n",
      "[6, 405388, 33326, 438714, 7592763]\n",
      "[7, 407077, 31637, 438714, 7185686]\n",
      "[8, 408774, 29940, 438714, 6776912]\n",
      "[9, 410477, 28237, 438714, 6366435]\n",
      "[10, 412187, 26527, 438714, 5954248]\n",
      "[11, 413905, 24809, 438714, 5540343]\n",
      "[12, 415629, 23085, 438714, 5124714]\n",
      "[13, 417361, 21353, 438714, 4707353]\n",
      "[14, 419100, 19614, 438714, 4288253]\n",
      "[15, 420846, 17868, 438714, 3867407]\n",
      "[16, 422600, 16114, 438714, 3444807]\n",
      "[17, 424361, 14353, 438714, 3020446]\n",
      "[18, 426129, 12585, 438714, 2594317]\n",
      "[19, 427904, 10810, 438714, 2166413]\n",
      "[20, 429687, 9027, 438714, 1736726]\n",
      "[21, 431478, 7236, 438714, 1305248]\n",
      "[22, 433275, 5439, 438714, 871973]\n",
      "[23, 435081, 3633, 438714, 436892]\n",
      "[24, 436894, 1820, 438714, 0]\n"
     ]
    }
   ],
   "source": [
    "대출이자 = 0\n",
    "납입원금 = 0\n",
    "대출잔액 = 대출원금\n",
    "회차별대출금 = []\n",
    "for 회차 in range(1, 대출기간 + 1):\n",
    "    대출이자 = round(대출잔액 * 이자율)\n",
    "    납입원금 = round(월납입액 - 대출이자)\n",
    "    대출잔액 = 대출잔액 - 납입원금\n",
    "    if 대출잔액 < 0 :\n",
    "        대출잔액 = 0\n",
    "    print([ 회차, 납입원금, 대출이자, 월납입액, 대출잔액])\n",
    "    회차별대출금.append([회차, 납입원금, 대출이자, 월납입액, 대출잔액])"
   ]
  },
  {
   "cell_type": "code",
   "execution_count": 26,
   "metadata": {},
   "outputs": [
    {
     "data": {
      "text/plain": [
       "[[1, 397047, 41667, 438714, 9602953],\n",
       " [2, 398702, 40012, 438714, 9204251],\n",
       " [3, 400363, 38351, 438714, 8803888],\n",
       " [4, 402031, 36683, 438714, 8401857],\n",
       " [5, 403706, 35008, 438714, 7998151],\n",
       " [6, 405388, 33326, 438714, 7592763],\n",
       " [7, 407077, 31637, 438714, 7185686],\n",
       " [8, 408774, 29940, 438714, 6776912],\n",
       " [9, 410477, 28237, 438714, 6366435],\n",
       " [10, 412187, 26527, 438714, 5954248],\n",
       " [11, 413905, 24809, 438714, 5540343],\n",
       " [12, 415629, 23085, 438714, 5124714],\n",
       " [13, 417361, 21353, 438714, 4707353],\n",
       " [14, 419100, 19614, 438714, 4288253],\n",
       " [15, 420846, 17868, 438714, 3867407],\n",
       " [16, 422600, 16114, 438714, 3444807],\n",
       " [17, 424361, 14353, 438714, 3020446],\n",
       " [18, 426129, 12585, 438714, 2594317],\n",
       " [19, 427904, 10810, 438714, 2166413],\n",
       " [20, 429687, 9027, 438714, 1736726],\n",
       " [21, 431478, 7236, 438714, 1305248],\n",
       " [22, 433275, 5439, 438714, 871973],\n",
       " [23, 435081, 3633, 438714, 436892],\n",
       " [24, 436894, 1820, 438714, 0]]"
      ]
     },
     "execution_count": 26,
     "metadata": {},
     "output_type": "execute_result"
    }
   ],
   "source": [
    "회차별대출금"
   ]
  },
  {
   "cell_type": "code",
   "execution_count": 28,
   "metadata": {},
   "outputs": [
    {
     "data": {
      "text/html": [
       "<div>\n",
       "<style scoped>\n",
       "    .dataframe tbody tr th:only-of-type {\n",
       "        vertical-align: middle;\n",
       "    }\n",
       "\n",
       "    .dataframe tbody tr th {\n",
       "        vertical-align: top;\n",
       "    }\n",
       "\n",
       "    .dataframe thead th {\n",
       "        text-align: right;\n",
       "    }\n",
       "</style>\n",
       "<table border=\"1\" class=\"dataframe\">\n",
       "  <thead>\n",
       "    <tr style=\"text-align: right;\">\n",
       "      <th></th>\n",
       "      <th>0</th>\n",
       "      <th>1</th>\n",
       "      <th>2</th>\n",
       "      <th>3</th>\n",
       "      <th>4</th>\n",
       "    </tr>\n",
       "  </thead>\n",
       "  <tbody>\n",
       "    <tr>\n",
       "      <th>0</th>\n",
       "      <td>1</td>\n",
       "      <td>397047</td>\n",
       "      <td>41667</td>\n",
       "      <td>438714</td>\n",
       "      <td>9602953</td>\n",
       "    </tr>\n",
       "    <tr>\n",
       "      <th>1</th>\n",
       "      <td>2</td>\n",
       "      <td>398702</td>\n",
       "      <td>40012</td>\n",
       "      <td>438714</td>\n",
       "      <td>9204251</td>\n",
       "    </tr>\n",
       "    <tr>\n",
       "      <th>2</th>\n",
       "      <td>3</td>\n",
       "      <td>400363</td>\n",
       "      <td>38351</td>\n",
       "      <td>438714</td>\n",
       "      <td>8803888</td>\n",
       "    </tr>\n",
       "    <tr>\n",
       "      <th>3</th>\n",
       "      <td>4</td>\n",
       "      <td>402031</td>\n",
       "      <td>36683</td>\n",
       "      <td>438714</td>\n",
       "      <td>8401857</td>\n",
       "    </tr>\n",
       "    <tr>\n",
       "      <th>4</th>\n",
       "      <td>5</td>\n",
       "      <td>403706</td>\n",
       "      <td>35008</td>\n",
       "      <td>438714</td>\n",
       "      <td>7998151</td>\n",
       "    </tr>\n",
       "    <tr>\n",
       "      <th>5</th>\n",
       "      <td>6</td>\n",
       "      <td>405388</td>\n",
       "      <td>33326</td>\n",
       "      <td>438714</td>\n",
       "      <td>7592763</td>\n",
       "    </tr>\n",
       "    <tr>\n",
       "      <th>6</th>\n",
       "      <td>7</td>\n",
       "      <td>407077</td>\n",
       "      <td>31637</td>\n",
       "      <td>438714</td>\n",
       "      <td>7185686</td>\n",
       "    </tr>\n",
       "    <tr>\n",
       "      <th>7</th>\n",
       "      <td>8</td>\n",
       "      <td>408774</td>\n",
       "      <td>29940</td>\n",
       "      <td>438714</td>\n",
       "      <td>6776912</td>\n",
       "    </tr>\n",
       "    <tr>\n",
       "      <th>8</th>\n",
       "      <td>9</td>\n",
       "      <td>410477</td>\n",
       "      <td>28237</td>\n",
       "      <td>438714</td>\n",
       "      <td>6366435</td>\n",
       "    </tr>\n",
       "    <tr>\n",
       "      <th>9</th>\n",
       "      <td>10</td>\n",
       "      <td>412187</td>\n",
       "      <td>26527</td>\n",
       "      <td>438714</td>\n",
       "      <td>5954248</td>\n",
       "    </tr>\n",
       "    <tr>\n",
       "      <th>10</th>\n",
       "      <td>11</td>\n",
       "      <td>413905</td>\n",
       "      <td>24809</td>\n",
       "      <td>438714</td>\n",
       "      <td>5540343</td>\n",
       "    </tr>\n",
       "    <tr>\n",
       "      <th>11</th>\n",
       "      <td>12</td>\n",
       "      <td>415629</td>\n",
       "      <td>23085</td>\n",
       "      <td>438714</td>\n",
       "      <td>5124714</td>\n",
       "    </tr>\n",
       "    <tr>\n",
       "      <th>12</th>\n",
       "      <td>13</td>\n",
       "      <td>417361</td>\n",
       "      <td>21353</td>\n",
       "      <td>438714</td>\n",
       "      <td>4707353</td>\n",
       "    </tr>\n",
       "    <tr>\n",
       "      <th>13</th>\n",
       "      <td>14</td>\n",
       "      <td>419100</td>\n",
       "      <td>19614</td>\n",
       "      <td>438714</td>\n",
       "      <td>4288253</td>\n",
       "    </tr>\n",
       "    <tr>\n",
       "      <th>14</th>\n",
       "      <td>15</td>\n",
       "      <td>420846</td>\n",
       "      <td>17868</td>\n",
       "      <td>438714</td>\n",
       "      <td>3867407</td>\n",
       "    </tr>\n",
       "    <tr>\n",
       "      <th>15</th>\n",
       "      <td>16</td>\n",
       "      <td>422600</td>\n",
       "      <td>16114</td>\n",
       "      <td>438714</td>\n",
       "      <td>3444807</td>\n",
       "    </tr>\n",
       "    <tr>\n",
       "      <th>16</th>\n",
       "      <td>17</td>\n",
       "      <td>424361</td>\n",
       "      <td>14353</td>\n",
       "      <td>438714</td>\n",
       "      <td>3020446</td>\n",
       "    </tr>\n",
       "    <tr>\n",
       "      <th>17</th>\n",
       "      <td>18</td>\n",
       "      <td>426129</td>\n",
       "      <td>12585</td>\n",
       "      <td>438714</td>\n",
       "      <td>2594317</td>\n",
       "    </tr>\n",
       "    <tr>\n",
       "      <th>18</th>\n",
       "      <td>19</td>\n",
       "      <td>427904</td>\n",
       "      <td>10810</td>\n",
       "      <td>438714</td>\n",
       "      <td>2166413</td>\n",
       "    </tr>\n",
       "    <tr>\n",
       "      <th>19</th>\n",
       "      <td>20</td>\n",
       "      <td>429687</td>\n",
       "      <td>9027</td>\n",
       "      <td>438714</td>\n",
       "      <td>1736726</td>\n",
       "    </tr>\n",
       "    <tr>\n",
       "      <th>20</th>\n",
       "      <td>21</td>\n",
       "      <td>431478</td>\n",
       "      <td>7236</td>\n",
       "      <td>438714</td>\n",
       "      <td>1305248</td>\n",
       "    </tr>\n",
       "    <tr>\n",
       "      <th>21</th>\n",
       "      <td>22</td>\n",
       "      <td>433275</td>\n",
       "      <td>5439</td>\n",
       "      <td>438714</td>\n",
       "      <td>871973</td>\n",
       "    </tr>\n",
       "    <tr>\n",
       "      <th>22</th>\n",
       "      <td>23</td>\n",
       "      <td>435081</td>\n",
       "      <td>3633</td>\n",
       "      <td>438714</td>\n",
       "      <td>436892</td>\n",
       "    </tr>\n",
       "    <tr>\n",
       "      <th>23</th>\n",
       "      <td>24</td>\n",
       "      <td>436894</td>\n",
       "      <td>1820</td>\n",
       "      <td>438714</td>\n",
       "      <td>0</td>\n",
       "    </tr>\n",
       "  </tbody>\n",
       "</table>\n",
       "</div>"
      ],
      "text/plain": [
       "     0       1      2       3        4\n",
       "0    1  397047  41667  438714  9602953\n",
       "1    2  398702  40012  438714  9204251\n",
       "2    3  400363  38351  438714  8803888\n",
       "3    4  402031  36683  438714  8401857\n",
       "4    5  403706  35008  438714  7998151\n",
       "5    6  405388  33326  438714  7592763\n",
       "6    7  407077  31637  438714  7185686\n",
       "7    8  408774  29940  438714  6776912\n",
       "8    9  410477  28237  438714  6366435\n",
       "9   10  412187  26527  438714  5954248\n",
       "10  11  413905  24809  438714  5540343\n",
       "11  12  415629  23085  438714  5124714\n",
       "12  13  417361  21353  438714  4707353\n",
       "13  14  419100  19614  438714  4288253\n",
       "14  15  420846  17868  438714  3867407\n",
       "15  16  422600  16114  438714  3444807\n",
       "16  17  424361  14353  438714  3020446\n",
       "17  18  426129  12585  438714  2594317\n",
       "18  19  427904  10810  438714  2166413\n",
       "19  20  429687   9027  438714  1736726\n",
       "20  21  431478   7236  438714  1305248\n",
       "21  22  433275   5439  438714   871973\n",
       "22  23  435081   3633  438714   436892\n",
       "23  24  436894   1820  438714        0"
      ]
     },
     "execution_count": 28,
     "metadata": {},
     "output_type": "execute_result"
    }
   ],
   "source": [
    "회차별대출금_DF = pd.DataFrame(회차별대출금)\n",
    "회차별대출금_DF"
   ]
  },
  {
   "cell_type": "code",
   "execution_count": 29,
   "metadata": {},
   "outputs": [
    {
     "data": {
      "text/html": [
       "<div>\n",
       "<style scoped>\n",
       "    .dataframe tbody tr th:only-of-type {\n",
       "        vertical-align: middle;\n",
       "    }\n",
       "\n",
       "    .dataframe tbody tr th {\n",
       "        vertical-align: top;\n",
       "    }\n",
       "\n",
       "    .dataframe thead th {\n",
       "        text-align: right;\n",
       "    }\n",
       "</style>\n",
       "<table border=\"1\" class=\"dataframe\">\n",
       "  <thead>\n",
       "    <tr style=\"text-align: right;\">\n",
       "      <th></th>\n",
       "      <th>회차</th>\n",
       "      <th>납입원금</th>\n",
       "      <th>대출이자</th>\n",
       "      <th>월납입액</th>\n",
       "      <th>대출잔액</th>\n",
       "    </tr>\n",
       "  </thead>\n",
       "  <tbody>\n",
       "    <tr>\n",
       "      <th>0</th>\n",
       "      <td>1</td>\n",
       "      <td>397047</td>\n",
       "      <td>41667</td>\n",
       "      <td>438714</td>\n",
       "      <td>9602953</td>\n",
       "    </tr>\n",
       "    <tr>\n",
       "      <th>1</th>\n",
       "      <td>2</td>\n",
       "      <td>398702</td>\n",
       "      <td>40012</td>\n",
       "      <td>438714</td>\n",
       "      <td>9204251</td>\n",
       "    </tr>\n",
       "    <tr>\n",
       "      <th>2</th>\n",
       "      <td>3</td>\n",
       "      <td>400363</td>\n",
       "      <td>38351</td>\n",
       "      <td>438714</td>\n",
       "      <td>8803888</td>\n",
       "    </tr>\n",
       "    <tr>\n",
       "      <th>3</th>\n",
       "      <td>4</td>\n",
       "      <td>402031</td>\n",
       "      <td>36683</td>\n",
       "      <td>438714</td>\n",
       "      <td>8401857</td>\n",
       "    </tr>\n",
       "    <tr>\n",
       "      <th>4</th>\n",
       "      <td>5</td>\n",
       "      <td>403706</td>\n",
       "      <td>35008</td>\n",
       "      <td>438714</td>\n",
       "      <td>7998151</td>\n",
       "    </tr>\n",
       "    <tr>\n",
       "      <th>5</th>\n",
       "      <td>6</td>\n",
       "      <td>405388</td>\n",
       "      <td>33326</td>\n",
       "      <td>438714</td>\n",
       "      <td>7592763</td>\n",
       "    </tr>\n",
       "    <tr>\n",
       "      <th>6</th>\n",
       "      <td>7</td>\n",
       "      <td>407077</td>\n",
       "      <td>31637</td>\n",
       "      <td>438714</td>\n",
       "      <td>7185686</td>\n",
       "    </tr>\n",
       "    <tr>\n",
       "      <th>7</th>\n",
       "      <td>8</td>\n",
       "      <td>408774</td>\n",
       "      <td>29940</td>\n",
       "      <td>438714</td>\n",
       "      <td>6776912</td>\n",
       "    </tr>\n",
       "    <tr>\n",
       "      <th>8</th>\n",
       "      <td>9</td>\n",
       "      <td>410477</td>\n",
       "      <td>28237</td>\n",
       "      <td>438714</td>\n",
       "      <td>6366435</td>\n",
       "    </tr>\n",
       "    <tr>\n",
       "      <th>9</th>\n",
       "      <td>10</td>\n",
       "      <td>412187</td>\n",
       "      <td>26527</td>\n",
       "      <td>438714</td>\n",
       "      <td>5954248</td>\n",
       "    </tr>\n",
       "    <tr>\n",
       "      <th>10</th>\n",
       "      <td>11</td>\n",
       "      <td>413905</td>\n",
       "      <td>24809</td>\n",
       "      <td>438714</td>\n",
       "      <td>5540343</td>\n",
       "    </tr>\n",
       "    <tr>\n",
       "      <th>11</th>\n",
       "      <td>12</td>\n",
       "      <td>415629</td>\n",
       "      <td>23085</td>\n",
       "      <td>438714</td>\n",
       "      <td>5124714</td>\n",
       "    </tr>\n",
       "    <tr>\n",
       "      <th>12</th>\n",
       "      <td>13</td>\n",
       "      <td>417361</td>\n",
       "      <td>21353</td>\n",
       "      <td>438714</td>\n",
       "      <td>4707353</td>\n",
       "    </tr>\n",
       "    <tr>\n",
       "      <th>13</th>\n",
       "      <td>14</td>\n",
       "      <td>419100</td>\n",
       "      <td>19614</td>\n",
       "      <td>438714</td>\n",
       "      <td>4288253</td>\n",
       "    </tr>\n",
       "    <tr>\n",
       "      <th>14</th>\n",
       "      <td>15</td>\n",
       "      <td>420846</td>\n",
       "      <td>17868</td>\n",
       "      <td>438714</td>\n",
       "      <td>3867407</td>\n",
       "    </tr>\n",
       "    <tr>\n",
       "      <th>15</th>\n",
       "      <td>16</td>\n",
       "      <td>422600</td>\n",
       "      <td>16114</td>\n",
       "      <td>438714</td>\n",
       "      <td>3444807</td>\n",
       "    </tr>\n",
       "    <tr>\n",
       "      <th>16</th>\n",
       "      <td>17</td>\n",
       "      <td>424361</td>\n",
       "      <td>14353</td>\n",
       "      <td>438714</td>\n",
       "      <td>3020446</td>\n",
       "    </tr>\n",
       "    <tr>\n",
       "      <th>17</th>\n",
       "      <td>18</td>\n",
       "      <td>426129</td>\n",
       "      <td>12585</td>\n",
       "      <td>438714</td>\n",
       "      <td>2594317</td>\n",
       "    </tr>\n",
       "    <tr>\n",
       "      <th>18</th>\n",
       "      <td>19</td>\n",
       "      <td>427904</td>\n",
       "      <td>10810</td>\n",
       "      <td>438714</td>\n",
       "      <td>2166413</td>\n",
       "    </tr>\n",
       "    <tr>\n",
       "      <th>19</th>\n",
       "      <td>20</td>\n",
       "      <td>429687</td>\n",
       "      <td>9027</td>\n",
       "      <td>438714</td>\n",
       "      <td>1736726</td>\n",
       "    </tr>\n",
       "    <tr>\n",
       "      <th>20</th>\n",
       "      <td>21</td>\n",
       "      <td>431478</td>\n",
       "      <td>7236</td>\n",
       "      <td>438714</td>\n",
       "      <td>1305248</td>\n",
       "    </tr>\n",
       "    <tr>\n",
       "      <th>21</th>\n",
       "      <td>22</td>\n",
       "      <td>433275</td>\n",
       "      <td>5439</td>\n",
       "      <td>438714</td>\n",
       "      <td>871973</td>\n",
       "    </tr>\n",
       "    <tr>\n",
       "      <th>22</th>\n",
       "      <td>23</td>\n",
       "      <td>435081</td>\n",
       "      <td>3633</td>\n",
       "      <td>438714</td>\n",
       "      <td>436892</td>\n",
       "    </tr>\n",
       "    <tr>\n",
       "      <th>23</th>\n",
       "      <td>24</td>\n",
       "      <td>436894</td>\n",
       "      <td>1820</td>\n",
       "      <td>438714</td>\n",
       "      <td>0</td>\n",
       "    </tr>\n",
       "  </tbody>\n",
       "</table>\n",
       "</div>"
      ],
      "text/plain": [
       "    회차    납입원금   대출이자    월납입액     대출잔액\n",
       "0    1  397047  41667  438714  9602953\n",
       "1    2  398702  40012  438714  9204251\n",
       "2    3  400363  38351  438714  8803888\n",
       "3    4  402031  36683  438714  8401857\n",
       "4    5  403706  35008  438714  7998151\n",
       "5    6  405388  33326  438714  7592763\n",
       "6    7  407077  31637  438714  7185686\n",
       "7    8  408774  29940  438714  6776912\n",
       "8    9  410477  28237  438714  6366435\n",
       "9   10  412187  26527  438714  5954248\n",
       "10  11  413905  24809  438714  5540343\n",
       "11  12  415629  23085  438714  5124714\n",
       "12  13  417361  21353  438714  4707353\n",
       "13  14  419100  19614  438714  4288253\n",
       "14  15  420846  17868  438714  3867407\n",
       "15  16  422600  16114  438714  3444807\n",
       "16  17  424361  14353  438714  3020446\n",
       "17  18  426129  12585  438714  2594317\n",
       "18  19  427904  10810  438714  2166413\n",
       "19  20  429687   9027  438714  1736726\n",
       "20  21  431478   7236  438714  1305248\n",
       "21  22  433275   5439  438714   871973\n",
       "22  23  435081   3633  438714   436892\n",
       "23  24  436894   1820  438714        0"
      ]
     },
     "execution_count": 29,
     "metadata": {},
     "output_type": "execute_result"
    }
   ],
   "source": [
    "회차별대출금_DF.columns = ['회차', '납입원금', '대출이자', '월납입액', '대출잔액']\n",
    "회차별대출금_DF"
   ]
  },
  {
   "cell_type": "markdown",
   "metadata": {},
   "source": [
    "#### 최종결과 엑셀저장"
   ]
  },
  {
   "cell_type": "markdown",
   "metadata": {},
   "source": [
    "* CH1 : 메모리에 엑셀객체 생성"
   ]
  },
  {
   "cell_type": "code",
   "execution_count": 30,
   "metadata": {},
   "outputs": [],
   "source": [
    "회차별대출금_엑셀 = pd.ExcelWriter('data/회차별대출금.xlsx')"
   ]
  },
  {
   "cell_type": "markdown",
   "metadata": {},
   "source": [
    "* CH2 : 메모리 상 데이터프레임을 엑셀에 저장"
   ]
  },
  {
   "cell_type": "code",
   "execution_count": 31,
   "metadata": {},
   "outputs": [],
   "source": [
    "회차별대출금_DF.to_excel(회차별대출금_엑셀, '회차별대출금', index = False)"
   ]
  },
  {
   "cell_type": "markdown",
   "metadata": {},
   "source": [
    "* CH3 : 실제 파일 저장"
   ]
  },
  {
   "cell_type": "code",
   "execution_count": 32,
   "metadata": {},
   "outputs": [],
   "source": [
    "회차별대출금_엑셀.save()"
   ]
  }
 ],
 "metadata": {
  "kernelspec": {
   "display_name": "Python 3",
   "language": "python",
   "name": "python3"
  },
  "language_info": {
   "codemirror_mode": {
    "name": "ipython",
    "version": 3
   },
   "file_extension": ".py",
   "mimetype": "text/x-python",
   "name": "python",
   "nbconvert_exporter": "python",
   "pygments_lexer": "ipython3",
   "version": "3.8.3"
  },
  "toc": {
   "base_numbering": 1,
   "nav_menu": {},
   "number_sections": true,
   "sideBar": true,
   "skip_h1_title": false,
   "title_cell": "Table of Contents",
   "title_sidebar": "Contents",
   "toc_cell": false,
   "toc_position": {},
   "toc_section_display": true,
   "toc_window_display": false
  },
  "varInspector": {
   "cols": {
    "lenName": 16,
    "lenType": 16,
    "lenVar": 40
   },
   "kernels_config": {
    "python": {
     "delete_cmd_postfix": "",
     "delete_cmd_prefix": "del ",
     "library": "var_list.py",
     "varRefreshCmd": "print(var_dic_list())"
    },
    "r": {
     "delete_cmd_postfix": ") ",
     "delete_cmd_prefix": "rm(",
     "library": "var_list.r",
     "varRefreshCmd": "cat(var_dic_list()) "
    }
   },
   "types_to_exclude": [
    "module",
    "function",
    "builtin_function_or_method",
    "instance",
    "_Feature"
   ],
   "window_display": false
  }
 },
 "nbformat": 4,
 "nbformat_minor": 4
}
